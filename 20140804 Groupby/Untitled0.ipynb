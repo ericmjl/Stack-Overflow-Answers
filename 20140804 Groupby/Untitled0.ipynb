{
 "metadata": {
  "name": "",
  "signature": "sha256:7c236cd75b84d24c6edd5912d3c2e80ccda41dd157fef0801cc85aca43f17618"
 },
 "nbformat": 3,
 "nbformat_minor": 0,
 "worksheets": [
  {
   "cells": [
    {
     "cell_type": "code",
     "collapsed": false,
     "input": [
      "import numpy as np\n",
      "import pandas as pd\n",
      "df2 = pd.DataFrame({'type':['A', 'A', 'B', 'B', 'C', 'C'], 'value':np.random.randn(6)})\n",
      "df2"
     ],
     "language": "python",
     "metadata": {},
     "outputs": [
      {
       "html": [
        "<div style=\"max-height:1000px;max-width:1500px;overflow:auto;\">\n",
        "<table border=\"1\" class=\"dataframe\">\n",
        "  <thead>\n",
        "    <tr style=\"text-align: right;\">\n",
        "      <th></th>\n",
        "      <th>type</th>\n",
        "      <th>value</th>\n",
        "    </tr>\n",
        "  </thead>\n",
        "  <tbody>\n",
        "    <tr>\n",
        "      <th>0</th>\n",
        "      <td> A</td>\n",
        "      <td>-0.517700</td>\n",
        "    </tr>\n",
        "    <tr>\n",
        "      <th>1</th>\n",
        "      <td> A</td>\n",
        "      <td>-0.952449</td>\n",
        "    </tr>\n",
        "    <tr>\n",
        "      <th>2</th>\n",
        "      <td> B</td>\n",
        "      <td>-0.161562</td>\n",
        "    </tr>\n",
        "    <tr>\n",
        "      <th>3</th>\n",
        "      <td> B</td>\n",
        "      <td> 0.528303</td>\n",
        "    </tr>\n",
        "    <tr>\n",
        "      <th>4</th>\n",
        "      <td> C</td>\n",
        "      <td>-0.633461</td>\n",
        "    </tr>\n",
        "    <tr>\n",
        "      <th>5</th>\n",
        "      <td> C</td>\n",
        "      <td>-1.078632</td>\n",
        "    </tr>\n",
        "  </tbody>\n",
        "</table>\n",
        "</div>"
       ],
       "metadata": {},
       "output_type": "pyout",
       "prompt_number": 1,
       "text": [
        "  type     value\n",
        "0    A -0.517700\n",
        "1    A -0.952449\n",
        "2    B -0.161562\n",
        "3    B  0.528303\n",
        "4    C -0.633461\n",
        "5    C -1.078632"
       ]
      }
     ],
     "prompt_number": 1
    },
    {
     "cell_type": "code",
     "collapsed": false,
     "input": [
      "for group in df2.groupby('type'):\n",
      "    print group\n",
      "    if group[0] == 'A':\n",
      "        print group[1].min()\n",
      "    if group[0] == 'B':\n",
      "        print group[1].max()\n",
      "    if group[0] == 'C':\n",
      "        print group[1].mean()"
     ],
     "language": "python",
     "metadata": {},
     "outputs": [
      {
       "output_type": "stream",
       "stream": "stdout",
       "text": [
        "('A',   type     value\n",
        "0    A -0.517700\n",
        "1    A -0.952449)\n",
        "type             A\n",
        "value   -0.9524487\n",
        "dtype: object\n",
        "('B',   type     value\n",
        "2    B -0.161562\n",
        "3    B  0.528303)\n",
        "type             B\n",
        "value    0.5283032\n",
        "dtype: object\n",
        "('C',   type     value\n",
        "4    C -0.633461\n",
        "5    C -1.078632)\n",
        "value   -0.856047\n",
        "dtype: float64\n"
       ]
      }
     ],
     "prompt_number": 2
    },
    {
     "cell_type": "code",
     "collapsed": false,
     "input": [
      "summary = pd.DataFrame()\n",
      "summary['mean'] = df2.groupby('type').mean()['value']\n",
      "summary['min'] = df2.groupby('type').min()['value']\n",
      "summary['max'] = df2.groupby('type').max()['value']\n",
      "summary"
     ],
     "language": "python",
     "metadata": {},
     "outputs": [
      {
       "html": [
        "<div style=\"max-height:1000px;max-width:1500px;overflow:auto;\">\n",
        "<table border=\"1\" class=\"dataframe\">\n",
        "  <thead>\n",
        "    <tr style=\"text-align: right;\">\n",
        "      <th></th>\n",
        "      <th>mean</th>\n",
        "      <th>min</th>\n",
        "      <th>max</th>\n",
        "    </tr>\n",
        "    <tr>\n",
        "      <th>type</th>\n",
        "      <th></th>\n",
        "      <th></th>\n",
        "      <th></th>\n",
        "    </tr>\n",
        "  </thead>\n",
        "  <tbody>\n",
        "    <tr>\n",
        "      <th>A</th>\n",
        "      <td>-0.735074</td>\n",
        "      <td>-0.952449</td>\n",
        "      <td>-0.517700</td>\n",
        "    </tr>\n",
        "    <tr>\n",
        "      <th>B</th>\n",
        "      <td> 0.183371</td>\n",
        "      <td>-0.161562</td>\n",
        "      <td> 0.528303</td>\n",
        "    </tr>\n",
        "    <tr>\n",
        "      <th>C</th>\n",
        "      <td>-0.856047</td>\n",
        "      <td>-1.078632</td>\n",
        "      <td>-0.633461</td>\n",
        "    </tr>\n",
        "  </tbody>\n",
        "</table>\n",
        "</div>"
       ],
       "metadata": {},
       "output_type": "pyout",
       "prompt_number": 3,
       "text": [
        "          mean       min       max\n",
        "type                              \n",
        "A    -0.735074 -0.952449 -0.517700\n",
        "B     0.183371 -0.161562  0.528303\n",
        "C    -0.856047 -1.078632 -0.633461"
       ]
      }
     ],
     "prompt_number": 3
    },
    {
     "cell_type": "code",
     "collapsed": false,
     "input": [
      "df2.groupby('type').mean()"
     ],
     "language": "python",
     "metadata": {},
     "outputs": [
      {
       "html": [
        "<div style=\"max-height:1000px;max-width:1500px;overflow:auto;\">\n",
        "<table border=\"1\" class=\"dataframe\">\n",
        "  <thead>\n",
        "    <tr style=\"text-align: right;\">\n",
        "      <th></th>\n",
        "      <th>value</th>\n",
        "    </tr>\n",
        "    <tr>\n",
        "      <th>type</th>\n",
        "      <th></th>\n",
        "    </tr>\n",
        "  </thead>\n",
        "  <tbody>\n",
        "    <tr>\n",
        "      <th>A</th>\n",
        "      <td>-0.767645</td>\n",
        "    </tr>\n",
        "    <tr>\n",
        "      <th>B</th>\n",
        "      <td> 0.060458</td>\n",
        "    </tr>\n",
        "    <tr>\n",
        "      <th>C</th>\n",
        "      <td> 0.616583</td>\n",
        "    </tr>\n",
        "  </tbody>\n",
        "</table>\n",
        "</div>"
       ],
       "metadata": {},
       "output_type": "pyout",
       "prompt_number": 13,
       "text": [
        "         value\n",
        "type          \n",
        "A    -0.767645\n",
        "B     0.060458\n",
        "C     0.616583"
       ]
      }
     ],
     "prompt_number": 13
    },
    {
     "cell_type": "code",
     "collapsed": false,
     "input": [
      "summary2 = pd.DataFrame()\n",
      "summary['mean'] = df2.groupby('type')."
     ],
     "language": "python",
     "metadata": {},
     "outputs": []
    }
   ],
   "metadata": {}
  }
 ]
}