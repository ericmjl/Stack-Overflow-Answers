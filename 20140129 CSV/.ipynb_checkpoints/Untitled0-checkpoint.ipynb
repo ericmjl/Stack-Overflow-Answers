{
 "metadata": {
  "name": "",
  "signature": "sha256:c43cf25e65ee1eb2f939416fc8a0aca8b5164a2a30fa1a770c4c05e748c74036"
 },
 "nbformat": 3,
 "nbformat_minor": 0,
 "worksheets": [
  {
   "cells": [
    {
     "cell_type": "code",
     "collapsed": false,
     "input": [
      "import csv"
     ],
     "language": "python",
     "metadata": {},
     "outputs": [],
     "prompt_number": 1
    },
    {
     "cell_type": "code",
     "collapsed": false,
     "input": [
      "with open('data.csv', 'r') as infile:\n",
      "    with open('data_out.csv', 'w') as outfile:\n",
      "        for line in csv.reader(infile):\n",
      "            newline = []\n",
      "            for element in line:\n",
      "                if line.index(element) in [1, 3]:\n",
      "                    newline.append(' ')\n",
      "                newline.append(element)\n",
      "            print(newline)\n",
      "            csv.writer(outfile).writerow(newline)"
     ],
     "language": "python",
     "metadata": {},
     "outputs": [
      {
       "output_type": "stream",
       "stream": "stdout",
       "text": [
        "['Song_Name', ' ', 'File_Name', 'Artist_Name', ' ', 'Artist_ID']\n",
        "['Song1', ' ', 'filename1', 'artistname', ' ', 'artist001']\n",
        "['Song1', ' ', 'filename1', 'artistname', ' ', 'artist001']\n",
        "['Song1', ' ', 'filename1', 'artistname', ' ', 'artist001']\n",
        "['Song1', ' ', 'filename1', 'artistname', ' ', 'artist001']\n"
       ]
      }
     ],
     "prompt_number": 12
    },
    {
     "cell_type": "code",
     "collapsed": false,
     "input": [],
     "language": "python",
     "metadata": {},
     "outputs": []
    }
   ],
   "metadata": {}
  }
 ]
}